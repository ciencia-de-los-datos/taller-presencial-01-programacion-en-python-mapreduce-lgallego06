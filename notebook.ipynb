{
 "cells": [
  {
   "cell_type": "code",
   "execution_count": 32,
   "metadata": {},
   "outputs": [],
   "source": [
    "import glob \n",
    "import fileinput\n",
    "def load_input(input_directory):\n",
    "    dir_path=input_directory +'/*.txt'\n",
    "    sequence=[]\n",
    "    filenames=glob.glob(dir_path)\n",
    "    for filename in filenames:\n",
    "        with fileinput.input(files=filenames) as file:\n",
    "            for line in file:\n",
    "                tupla=(fileinput.filename(), line)\n",
    "                sequence.append(tupla)\n",
    "        return sequence\n",
    "\n",
    "#load_input('input')"
   ]
  },
  {
   "cell_type": "code",
   "execution_count": 33,
   "metadata": {},
   "outputs": [],
   "source": [
    "# def mapper(sequence):\n",
    "#     new_sequence=[]\n",
    "#     for _, text in sequence:\n",
    "#         words=text.split()\n",
    "#         for word in words:\n",
    "#             new_sequence.append((word,1))\n",
    "#     return new_sequence\n",
    "\n",
    "#sequence=load_input('input')\n",
    "#sequence=mapper(sequence)\n",
    "#print(sequence)"
   ]
  },
  {
   "cell_type": "code",
   "execution_count": 34,
   "metadata": {},
   "outputs": [],
   "source": [
    "def mapper(sequence):\n",
    "    new_sequence = []\n",
    "    for _, text in sequence:\n",
    "        words = text.split()\n",
    "        for word in words:\n",
    "            word = word.replace(\",\", \"\")\n",
    "            word = word.replace(\".\", \"\")\n",
    "            word=word.lower()\n",
    "            new_sequence.append((word,1))\n",
    "    return new_sequence"
   ]
  },
  {
   "cell_type": "code",
   "execution_count": 35,
   "metadata": {},
   "outputs": [],
   "source": [
    "def shuffle_and_sort(sequence):\n",
    "    sorted_sequence=sorted(sequence, key=lambda x:x[0])\n",
    "    return sorted_sequence\n",
    "#sequence=load_input('input')\n",
    "#sequence= mapper(sequence)\n",
    "#sequence= shuffle_and_sort(sequence)\n",
    "#print(sequence)"
   ]
  },
  {
   "cell_type": "code",
   "execution_count": 36,
   "metadata": {},
   "outputs": [],
   "source": [
    "def reducer(sequence):\n",
    "    diccionario={}\n",
    "    for key, value in sequence:\n",
    "        if key not in diccionario.keys():\n",
    "            diccionario[key]=[]\n",
    "        diccionario[key].append(value)\n",
    "    new_sequence=[]\n",
    "    for key, value in diccionario.items():\n",
    "        tupla=(key, sum(value))\n",
    "        new_sequence.append(tupla)\n",
    "    return new_sequence\n",
    "\n",
    "#sequence=load_input('input')\n",
    "#sequence=mapper(sequence)\n",
    "#sequence=shuffle_and_sort(sequence)\n",
    "#reducer(sequence)\n"
   ]
  },
  {
   "cell_type": "code",
   "execution_count": 37,
   "metadata": {},
   "outputs": [],
   "source": [
    "import os\n",
    "\n",
    "def create_output_directory(output_directory):\n",
    "    if os.path.exists(output_directory):\n",
    "        raise FileExistsError(f\"The directory '{output_directory}' already exists.\")\n",
    "    os.makedirs(output_directory)\n",
    "    return output_directory  # Devolver el nombre del directorio creado\n",
    "\n",
    "#sequence=load_input('input')\n",
    "#sequence=mapper(sequence)\n",
    "#sequence=shuffle_and_sort(sequence)\n",
    "#sequence=reducer(sequence)\n",
    "#create_output_directory('output')\n",
    "\n"
   ]
  },
  {
   "cell_type": "code",
   "execution_count": 38,
   "metadata": {},
   "outputs": [],
   "source": [
    "def save_output(output_directory, sequence):\n",
    "    with open(output_directory +'/part-0000','w') as file:\n",
    "        for key, value in sequence:\n",
    "            file.write(f\"{key}\\t{value}\\n\")\n",
    "\n",
    "#sequence = load_input('input')\n",
    "#sequence = mapper(sequence)\n",
    "#sequence = shuffle_and_sort(sequence)\n",
    "#sequence = reducer(sequence)\n",
    "#output_directory = create_output_directory('output')  # Capturar el nombre del directorio creado\n",
    "#save_output(output_directory, sequence) \n",
    "\n",
    "\n",
    "\n"
   ]
  },
  {
   "cell_type": "code",
   "execution_count": 39,
   "metadata": {},
   "outputs": [],
   "source": [
    "def create_marker(output_directory):\n",
    "    with open(output_directory + '\\_SUCCESS','w') as file:\n",
    "        file.write(\"\")\n"
   ]
  },
  {
   "cell_type": "code",
   "execution_count": 40,
   "metadata": {},
   "outputs": [],
   "source": [
    "def job(input_directory, output_directory):\n",
    "    sequence = load_input(input_directory)\n",
    "    sequence = mapper(sequence)\n",
    "    sequence = shuffle_and_sort(sequence)\n",
    "    sequence = reducer(sequence)\n",
    "    output_directory = create_output_directory(output_directory)  # Capturar el nombre del directorio creado\n",
    "    save_output(output_directory, sequence)\n",
    "    create_marker(output_directory)\n",
    "\n"
   ]
  },
  {
   "cell_type": "code",
   "execution_count": 41,
   "metadata": {},
   "outputs": [],
   "source": [
    "job(\n",
    "  'input',\n",
    "  'output',\n",
    ")\n"
   ]
  }
 ],
 "metadata": {
  "kernelspec": {
   "display_name": ".venv",
   "language": "python",
   "name": "python3"
  },
  "language_info": {
   "codemirror_mode": {
    "name": "ipython",
    "version": 3
   },
   "file_extension": ".py",
   "mimetype": "text/x-python",
   "name": "python",
   "nbconvert_exporter": "python",
   "pygments_lexer": "ipython3",
   "version": "3.11.1"
  }
 },
 "nbformat": 4,
 "nbformat_minor": 2
}
